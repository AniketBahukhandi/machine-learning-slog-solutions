{
 "cells": [
  {
   "cell_type": "code",
   "execution_count": 1,
   "id": "c79b51d1",
   "metadata": {},
   "outputs": [],
   "source": [
    "categories=[\"LARCENY/THEFT\",\"OTHER OFFENSES\",\"NON-CRIMINAL\",\"ASSAULT\",\"VANDALISM\",\"VEHICLE THEFT\",\"WARRANTS\",\"BURGLARY\",\"SUSPICIOUS OCC\",\"MISSING PERSON\",\"DRUG/NARCOTIC\",\"ROBBERY\",\"FRAUD\",\"SECONDARY CODES\",\"TRESPASS\",\"WEAPON LAWS\",\"SEX OFFENSES, FORCIBLE\",\"STOLEN PROPERTY\",\"RECOVERED VEHICLE\",\"DISORDERLY CONDUCT\",\"PROSTITUTION\",\"FORGERY/COUNTERFEITING\",\"DRUNKENNESS\",\"DRIVING UNDER THE INFLUENCE\",\"ARSON\",\"KIDNAPPING\",\"EMBEZZLEMENT\",\"LIQUOR LAWS\",\"RUNAWAY\",\"SUICIDE\",\"BRIBERY\",\"EXTORTION\",\"FAMILY OFFENSES\",\"LOITERING\",\"SEX OFFENSES, NON FORCIBLE\",\"BAD CHECKS\",\"GAMBLING\",\"PORNOGRAPHY/OBSCENE MAT\",\"TREA\"]"
   ]
  },
  {
   "cell_type": "code",
   "execution_count": 2,
   "id": "51d58c0d",
   "metadata": {},
   "outputs": [
    {
     "data": {
      "text/plain": [
       "['LARCENY/THEFT',\n",
       " 'OTHER OFFENSES',\n",
       " 'NON-CRIMINAL',\n",
       " 'ASSAULT',\n",
       " 'VANDALISM',\n",
       " 'VEHICLE THEFT',\n",
       " 'WARRANTS',\n",
       " 'BURGLARY',\n",
       " 'SUSPICIOUS OCC',\n",
       " 'MISSING PERSON',\n",
       " 'DRUG/NARCOTIC',\n",
       " 'ROBBERY',\n",
       " 'FRAUD',\n",
       " 'SECONDARY CODES',\n",
       " 'TRESPASS',\n",
       " 'WEAPON LAWS',\n",
       " 'SEX OFFENSES, FORCIBLE',\n",
       " 'STOLEN PROPERTY',\n",
       " 'RECOVERED VEHICLE',\n",
       " 'DISORDERLY CONDUCT',\n",
       " 'PROSTITUTION',\n",
       " 'FORGERY/COUNTERFEITING',\n",
       " 'DRUNKENNESS',\n",
       " 'DRIVING UNDER THE INFLUENCE',\n",
       " 'ARSON',\n",
       " 'KIDNAPPING',\n",
       " 'EMBEZZLEMENT',\n",
       " 'LIQUOR LAWS',\n",
       " 'RUNAWAY',\n",
       " 'SUICIDE',\n",
       " 'BRIBERY',\n",
       " 'EXTORTION',\n",
       " 'FAMILY OFFENSES',\n",
       " 'LOITERING',\n",
       " 'SEX OFFENSES, NON FORCIBLE',\n",
       " 'BAD CHECKS',\n",
       " 'GAMBLING',\n",
       " 'PORNOGRAPHY/OBSCENE MAT',\n",
       " 'TREA']"
      ]
     },
     "execution_count": 2,
     "metadata": {},
     "output_type": "execute_result"
    }
   ],
   "source": [
    "categories"
   ]
  },
  {
   "cell_type": "code",
   "execution_count": null,
   "id": "edfe856a",
   "metadata": {},
   "outputs": [],
   "source": []
  }
 ],
 "metadata": {
  "kernelspec": {
   "display_name": "Python 3 (ipykernel)",
   "language": "python",
   "name": "python3"
  },
  "language_info": {
   "codemirror_mode": {
    "name": "ipython",
    "version": 3
   },
   "file_extension": ".py",
   "mimetype": "text/x-python",
   "name": "python",
   "nbconvert_exporter": "python",
   "pygments_lexer": "ipython3",
   "version": "3.9.7"
  }
 },
 "nbformat": 4,
 "nbformat_minor": 5
}
